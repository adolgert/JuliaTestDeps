{
 "cells": [
  {
   "cell_type": "code",
   "execution_count": 5,
   "id": "27148e53",
   "metadata": {},
   "outputs": [],
   "source": [
    "using CSV\n",
    "\n",
    "using JuliaTestDeps"
   ]
  },
  {
   "cell_type": "code",
   "execution_count": 2,
   "id": "6c6ae6b8",
   "metadata": {},
   "outputs": [
    {
     "name": "stdout",
     "output_type": "stream",
     "text": [
      "No package found in ../data/project/C/ChunkCodecCore\n",
      "No package found in ../data/project/C/ChunkCodecLibBlosc\n",
      "No package found in ../data/project/C/ChunkCodecLibBzip2\n",
      "No package found in ../data/project/C/ChunkCodecLibLz4\n",
      "No package found in ../data/project/C/ChunkCodecLibSnappy\n",
      "No package found in ../data/project/C/ChunkCodecLibZlib\n",
      "No package found in ../data/project/C/ChunkCodecLibZstd\n",
      "No package found in ../data/project/C/ChunkCodecTests\n",
      "Error parsing ../data/project/D/DejaVu/Project.toml: Base.TOML.ParserError(Base.TOML.ErrExpectedNewLineKeyValue, nothing, \"name = \\\"DejaVu\\\"\\nuuid = \\\"13e42f18-9cd8-4aec-8cff-075110cadf7e\\\"\\nauthors = [\\\"Laurent Bartholdi <laurent.bartholdi@gmail.com>\\\"]\\nversion = \\\"0.1.1\\\"\\n\\n[deps]\\nCxxWrap = \\\"1f15a43c-97ca-5a2a-ae31-89f07a497df4\\\"\\nDataStructures = \\\"864edb3b-99cc-5e75-8d2d-829cb0a9cfe8\\\"\\nGraphs = \\\"86223c79-3864-5bf0-83f7-82e725a168b6\\\"\\nLibdl = \\\"8f399da3-3557-5675-b5ff-fb832c97cbdb\\\"\\nTest = \\\"8dfed614-e22c-5e08-85e1-65c5234f0b40\\\"\\n\\n[compat]\\nCxxWrap = \\\"0.14 - 0.18\\\"\\\"\\nGraphs = \\\"1\\\"\\njulia = \\\"1\\\"\\nDataStructures = \\\"0.18 - 0.20\\\"\\n\\n[extras]\\nTest = \\\"8dfed614-e22c-5e08-85e1-65c5234f0b40\\\"\\n\\n[targets]\\ntest = [\\\"Test\\\"]\\n\", nothing, 15, -1, 430, Dict{String, Any}(\"deps\" => Dict{String, Any}(\"Graphs\" => \"86223c79-3864-5bf0-83f7-82e725a168b6\", \"DataStructures\" => \"864edb3b-99cc-5e75-8d2d-829cb0a9cfe8\", \"Test\" => \"8dfed614-e22c-5e08-85e1-65c5234f0b40\", \"Libdl\" => \"8f399da3-3557-5675-b5ff-fb832c97cbdb\", \"CxxWrap\" => \"1f15a43c-97ca-5a2a-ae31-89f07a497df4\"), \"name\" => \"DejaVu\", \"uuid\" => \"13e42f18-9cd8-4aec-8cff-075110cadf7e\", \"compat\" => Dict{String, Any}(\"CxxWrap\" => \"0.14 - 0.18\"), \"authors\" => [\"Laurent Bartholdi <laurent.bartholdi@gmail.com>\"], \"version\" => \"0.1.1\"))\n",
      "No package found in ../data/project/D/DejaVu\n",
      "No package found in ../data/project/E/EchoviewEvr\n",
      "No package found in ../data/project/O/OpenInterfaces\n",
      "No package found in ../data/project/C/ChunkCodecCore\n",
      "No package found in ../data/project/C/ChunkCodecLibBlosc\n",
      "No package found in ../data/project/C/ChunkCodecLibBzip2\n",
      "No package found in ../data/project/C/ChunkCodecLibLz4\n",
      "No package found in ../data/project/C/ChunkCodecLibSnappy\n",
      "No package found in ../data/project/C/ChunkCodecLibZlib\n",
      "No package found in ../data/project/C/ChunkCodecLibZstd\n",
      "No package found in ../data/project/C/ChunkCodecTests\n",
      "Error parsing ../data/project/D/DejaVu/Project.toml: Base.TOML.ParserError(Base.TOML.ErrExpectedNewLineKeyValue, nothing, \"name = \\\"DejaVu\\\"\\nuuid = \\\"13e42f18-9cd8-4aec-8cff-075110cadf7e\\\"\\nauthors = [\\\"Laurent Bartholdi <laurent.bartholdi@gmail.com>\\\"]\\nversion = \\\"0.1.1\\\"\\n\\n[deps]\\nCxxWrap = \\\"1f15a43c-97ca-5a2a-ae31-89f07a497df4\\\"\\nDataStructures = \\\"864edb3b-99cc-5e75-8d2d-829cb0a9cfe8\\\"\\nGraphs = \\\"86223c79-3864-5bf0-83f7-82e725a168b6\\\"\\nLibdl = \\\"8f399da3-3557-5675-b5ff-fb832c97cbdb\\\"\\nTest = \\\"8dfed614-e22c-5e08-85e1-65c5234f0b40\\\"\\n\\n[compat]\\nCxxWrap = \\\"0.14 - 0.18\\\"\\\"\\nGraphs = \\\"1\\\"\\njulia = \\\"1\\\"\\nDataStructures = \\\"0.18 - 0.20\\\"\\n\\n[extras]\\nTest = \\\"8dfed614-e22c-5e08-85e1-65c5234f0b40\\\"\\n\\n[targets]\\ntest = [\\\"Test\\\"]\\n\", nothing, 15, -1, 430, Dict{String, Any}(\"deps\" => Dict{String, Any}(\"Graphs\" => \"86223c79-3864-5bf0-83f7-82e725a168b6\", \"DataStructures\" => \"864edb3b-99cc-5e75-8d2d-829cb0a9cfe8\", \"Test\" => \"8dfed614-e22c-5e08-85e1-65c5234f0b40\", \"Libdl\" => \"8f399da3-3557-5675-b5ff-fb832c97cbdb\", \"CxxWrap\" => \"1f15a43c-97ca-5a2a-ae31-89f07a497df4\"), \"name\" => \"DejaVu\", \"uuid\" => \"13e42f18-9cd8-4aec-8cff-075110cadf7e\", \"compat\" => Dict{String, Any}(\"CxxWrap\" => \"0.14 - 0.18\"), \"authors\" => [\"Laurent Bartholdi <laurent.bartholdi@gmail.com>\"], \"version\" => \"0.1.1\"))\n",
      "No package found in ../data/project/D/DejaVu\n",
      "No package found in ../data/project/E/EchoviewEvr\n",
      "No package found in ../data/project/O/OpenInterfaces\n"
     ]
    },
    {
     "data": {
      "text/plain": [
       "(Dict{Base.UUID, String}(Base.UUID(\"aac05064-a116-4aba-9bed-53c9d53f4642\") => \"WhereIsMyDocstring\", Base.UUID(\"575d3204-02a4-11ea-3f62-238caa8bf11e\") => \"NiLangCore\", Base.UUID(\"80f14c24-f653-4e6a-9b94-39d6b0f70001\") => \"AbstractMCMC\", Base.UUID(\"626594ce-0aac-4e81-a7f6-bc4bb5ff97e9\") => \"StableMap\", Base.UUID(\"45d422c2-293f-44ce-8315-2cb988662dec\") => \"KrylovPreconditioners\", Base.UUID(\"2dc4fe6c-d2be-46ad-ace5-0bbcd4825534\") => \"CANalyze\", Base.UUID(\"2bec176e-9e8c-4764-a62f-295118d1ec05\") => \"QMRIColors\", Base.UUID(\"6ce4ecf0-73a7-4ce3-9fb4-80ebfe887b60\") => \"SummaryTables\", Base.UUID(\"dfaa095f-4041-5dcd-9319-2fabd8486b76\") => \"x265_jll\", Base.UUID(\"f984992d-3c45-4382-99a1-cf20f5c47c61\") => \"DiffPointRasterisation\"…), Dict{String, Dict{String, Vector{Base.UUID}}}(\"FastaLoader\" => Dict(\"test\" => [Base.UUID(\"8dfed614-e22c-5e08-85e1-65c5234f0b40\")], \"main\" => [Base.UUID(\"336ed68f-0bac-5ca0-87d4-7b16caf5d00b\"), Base.UUID(\"052768ef-5323-5732-b1bb-66c8b64840ba\"), Base.UUID(\"2913bbd2-ae8a-5f71-8c99-4fb6c76f3a91\"), Base.UUID(\"e30172f5-a6a5-5a46-863b-614d45cd2de4\"), Base.UUID(\"a93c6f00-e57d-5684-b7b6-d8193f3e46c0\"), Base.UUID(\"9a3f8284-a2c9-5f02-9a11-845980a1fd5c\"), Base.UUID(\"35a29f4d-8980-5a13-9543-d66fff28ecb8\"), Base.UUID(\"5ea955a8-74dc-49b5-be65-6ee01fc504f7\")]), \"TypeParsers\" => Dict(\"test\" => [Base.UUID(\"8dfed614-e22c-5e08-85e1-65c5234f0b40\")]), \"Luxor\" => Dict(\"test\" => [Base.UUID(\"4c88cf16-eb10-579e-8560-4a9242c79595\"), Base.UUID(\"82e4d734-157c-48bb-816b-45c225c6df19\"), Base.UUID(\"8dfed614-e22c-5e08-85e1-65c5234f0b40\"), Base.UUID(\"0a4f8689-d25c-4efe-a92b-7142dfc1aa53\"), Base.UUID(\"b964fa9f-0449-5b57-a5c2-d3ea65f4040f\")], \"main\" => [Base.UUID(\"c4c386cf-5103-5370-be45-f3a111cca3b8\"), Base.UUID(\"9a3f8284-a2c9-5f02-9a11-845980a1fd5c\"), Base.UUID(\"aea7be01-6a6a-4083-8856-8a6e6704d82a\"), Base.UUID(\"b964fa9f-0449-5b57-a5c2-d3ea65f4040f\"), Base.UUID(\"864edb3b-99cc-5e75-8d2d-829cb0a9cfe8\"), Base.UUID(\"2a0f44e3-6c83-55bd-87e4-b1978d98bd5f\"), Base.UUID(\"0a4f8689-d25c-4efe-a92b-7142dfc1aa53\"), Base.UUID(\"5ae59095-9a9b-59fe-a467-6f913c188581\"), Base.UUID(\"c87230d0-a227-11e9-1b43-d7ebe4e7570a\"), Base.UUID(\"5789e2e9-d7fb-5bc7-8068-2c6fae9b9549\"), Base.UUID(\"ade2ca70-3891-5945-98fb-dc099432e06a\"), Base.UUID(\"159f3aea-2a34-519c-b102-8c37f9878175\"), Base.UUID(\"32a0d02f-32d9-4438-b5ed-3a2932b48f96\")]), \"Foresight\" => Dict(\"test\" => [Base.UUID(\"13f3f980-e62b-5c42-98c6-ff1f3baf88f0\"), Base.UUID(\"10745b16-79ce-11e8-11f9-7d13ad32a3b2\"), Base.UUID(\"37e2e46d-f89d-539d-b4ee-838fcccc9c8e\"), Base.UUID(\"8dfed614-e22c-5e08-85e1-65c5234f0b40\"), Base.UUID(\"b964fa9f-0449-5b57-a5c2-d3ea65f4040f\")], \"main\" => [Base.UUID(\"5789e2e9-d7fb-5bc7-8068-2c6fae9b9549\"), Base.UUID(\"1fa38f19-a742-5d3f-a2b9-30dd87b9d5f8\"), Base.UUID(\"ee78f7c6-11fb-53f2-987a-cfe4a2b5a57a\"), Base.UUID(\"6db54171-f50f-4661-a74f-bc514ef16cee\"), Base.UUID(\"37e2e46d-f89d-539d-b4ee-838fcccc9c8e\"), Base.UUID(\"9a3f8284-a2c9-5f02-9a11-845980a1fd5c\"), Base.UUID(\"5ae59095-9a9b-59fe-a467-6f913c188581\"), Base.UUID(\"aaaa29a8-35af-508c-8bc3-b662a17a0fe5\"), Base.UUID(\"21216c6a-2e73-6563-6e65-726566657250\"), Base.UUID(\"ae029012-a4dd-5104-9daa-d747884805df\")]), \"AtomsBase\" => Dict(\"test\" => [Base.UUID(\"8dfed614-e22c-5e08-85e1-65c5234f0b40\"), Base.UUID(\"44cfe95a-1eb2-52ea-b672-e2afdf69b78f\"), Base.UUID(\"1986cc42-f94f-5a68-af5c-568840ba703d\"), Base.UUID(\"a7773ee8-282e-5fa2-be4e-bd808c38a91a\")], \"main\" => [Base.UUID(\"1986cc42-f94f-5a68-af5c-568840ba703d\"), Base.UUID(\"90137ffa-7385-5640-81b9-e52037218182\"), Base.UUID(\"a7773ee8-282e-5fa2-be4e-bd808c38a91a\"), Base.UUID(\"37e2e46d-f89d-539d-b4ee-838fcccc9c8e\"), Base.UUID(\"7b2266bf-644c-5ea3-82d8-af4bbd25a884\"), Base.UUID(\"21216c6a-2e73-6563-6e65-726566657250\"), Base.UUID(\"de0858da-6303-5e67-8744-51eddeeeb8d7\"), Base.UUID(\"ae029012-a4dd-5104-9daa-d747884805df\")]), \"NVTX_jll\" => Dict(\"main\" => [Base.UUID(\"692b3bcd-3c85-4b1f-b108-f13ce0eb3210\"), Base.UUID(\"8f399da3-3557-5675-b5ff-fb832c97cbdb\"), Base.UUID(\"56f22d72-fd6d-98f1-02f0-08ddc0907c33\")]), \"UnsafeArrays\" => Dict(\"test\" => [Base.UUID(\"9a3f8284-a2c9-5f02-9a11-845980a1fd5c\"), Base.UUID(\"8dfed614-e22c-5e08-85e1-65c5234f0b40\")]), \"ClimaAnalysis\" => Dict(\"test\" => [Base.UUID(\"4c88cf16-eb10-579e-8560-4a9242c79595\"), Base.UUID(\"13f3f980-e62b-5c42-98c6-ff1f3baf88f0\"), Base.UUID(\"e30172f5-a6a5-5a46-863b-614d45cd2de4\"), Base.UUID(\"7d51a73a-1435-4ff3-83d9-f097790105c7\"), Base.UUID(\"db073c08-6b98-4ee5-b6a4-5efafb3259c6\"), Base.UUID(\"98e50ef6-434e-11e9-1051-2b60c6c9e899\"), Base.UUID(\"ee78f7c6-11fb-53f2-987a-cfe4a2b5a57a\"), Base.UUID(\"1bc83da4-3b8d-516f-aca4-4fe02f6d838f\"), Base.UUID(\"8dfed614-e22c-5e08-85e1-65c5234f0b40\")], \"main\" => [Base.UUID(\"1986cc42-f94f-5a68-af5c-568840ba703d\"), Base.UUID(\"ade2ca70-3891-5945-98fb-dc099432e06a\"), Base.UUID(\"10745b16-79ce-11e8-11f9-7d13ad32a3b2\"), Base.UUID(\"85f8d34a-cbdd-5861-8df4-14fed0d494ab\"), Base.UUID(\"bac558e1-5e72-5ebc-8fee-abe8a469f55d\"), Base.UUID(\"b946abbf-3ea7-4610-9019-9858bfdeaf2d\"), Base.UUID(\"a98d9a8b-a2ab-59e6-89dd-64a1c18fca59\"), Base.UUID(\"56f22d72-fd6d-98f1-02f0-08ddc0907c33\"), Base.UUID(\"189a3867-3050-52da-a836-e630ba90ab69\")]), \"GAP_pkg_ace_jll\" => Dict(\"main\" => [Base.UUID(\"692b3bcd-3c85-4b1f-b108-f13ce0eb3210\"), Base.UUID(\"8f399da3-3557-5675-b5ff-fb832c97cbdb\"), Base.UUID(\"56f22d72-fd6d-98f1-02f0-08ddc0907c33\")]), \"CUDA_Runtime_jll\" => Dict(\"main\" => [Base.UUID(\"692b3bcd-3c85-4b1f-b108-f13ce0eb3210\"), Base.UUID(\"4ee394cb-3365-5eb0-8335-949819d2adfc\"), Base.UUID(\"4af54fe1-eca0-43a8-85a7-787d91b784e3\"), Base.UUID(\"8f399da3-3557-5675-b5ff-fb832c97cbdb\"), Base.UUID(\"fa267f1f-6049-4f14-aa54-33bafae1ed76\"), Base.UUID(\"56f22d72-fd6d-98f1-02f0-08ddc0907c33\")])…))"
      ]
     },
     "metadata": {},
     "output_type": "display_data"
    }
   ],
   "source": [
    "packages, dependencies = read_all_package_targets()"
   ]
  },
  {
   "cell_type": "code",
   "execution_count": 6,
   "id": "0053865c",
   "metadata": {},
   "outputs": [
    {
     "data": {
      "text/plain": [
       "\"most_used.csv\""
      ]
     },
     "metadata": {},
     "output_type": "display_data"
    }
   ],
   "source": [
    "most_used_df = most_used_in_test(packages, dependencies)\n",
    "CSV.write(\"most_used.csv\", most_used_df)"
   ]
  },
  {
   "cell_type": "markdown",
   "id": "32643e5e",
   "metadata": {},
   "source": [
    "Documenter is used a lot in the test directory. A good example is in HiddenMarkovModels.jl:\n",
    "```\n",
    "        @testset \"Doctests\" begin\n",
    "            Documenter.doctest(HiddenMarkovModels)\n",
    "        end\n",
    "```"
   ]
  },
  {
   "cell_type": "code",
   "execution_count": null,
   "id": "7f9ecc0a",
   "metadata": {},
   "outputs": [
    {
     "data": {
      "text/plain": [
       "#11 (generic function with 1 method)"
      ]
     },
     "metadata": {},
     "output_type": "display_data"
    }
   ],
   "source": [
    "# A good football striker is a thief and a liar.\n",
    "# A good developer is lazy.\n",
    "uses = pkg_name -> who_uses(packages, dependencies, pkg_name)"
   ]
  },
  {
   "cell_type": "code",
   "execution_count": null,
   "id": "01c9292f",
   "metadata": {},
   "outputs": [
    {
     "data": {
      "text/plain": [
       "504-element Vector{String}:\n",
       " \"ClimaAnalysis\"\n",
       " \"StaticRanges\"\n",
       " \"MetaGraphsNext\"\n",
       " \"PrefectInterfaces\"\n",
       " \"HiddenMarkovModels\"\n",
       " \"InferOpt\"\n",
       " \"Xtals\"\n",
       " \"FunctionChains\"\n",
       " \"JpegTurbo\"\n",
       " \"UpROOT\"\n",
       " ⋮\n",
       " \"WCS\"\n",
       " \"EffectSizes\"\n",
       " \"Quaternionic\"\n",
       " \"QuantumControl\"\n",
       " \"RunStatistics\"\n",
       " \"ApproximateVanishingIdeals\"\n",
       " \"LinearMaps\"\n",
       " \"SIMIlluminationPatterns\"\n",
       " \"EarthData\""
      ]
     },
     "metadata": {},
     "output_type": "display_data"
    }
   ],
   "source": [
    "who_uses(\"Documenter\")"
   ]
  },
  {
   "cell_type": "code",
   "execution_count": null,
   "id": "a872f330",
   "metadata": {},
   "outputs": [
    {
     "data": {
      "text/plain": [
       "101-element Vector{String}:\n",
       " \"ClimaAnalysis\"\n",
       " \"MetaGraphsNext\"\n",
       " \"HiddenMarkovModels\"\n",
       " \"InferOpt\"\n",
       " \"StructuralEquationModels\"\n",
       " \"DifferentiableFrankWolfe\"\n",
       " \"QuantumControlBase\"\n",
       " \"RegressionDynamicCausalModeling\"\n",
       " \"TopologicalNumbers\"\n",
       " \"GRAPE\"\n",
       " ⋮\n",
       " \"MarkovKernels\"\n",
       " \"QuantumControlTestUtils\"\n",
       " \"GridGraphs\"\n",
       " \"ClimaDiagnostics\"\n",
       " \"ConsensusBasedX\"\n",
       " \"HTMLBuilder\"\n",
       " \"Graphs\"\n",
       " \"QuantumControl\"\n",
       " \"LaTeXDatax\""
      ]
     },
     "metadata": {},
     "output_type": "display_data"
    }
   ],
   "source": [
    "uses(\"JuliaFormatter\")"
   ]
  },
  {
   "cell_type": "markdown",
   "id": "1a9f8d0a",
   "metadata": {},
   "source": [
    "From MetaGraphsNext/test/runtests.jl:\n",
    "```\n",
    "    @testset verbose = false \"Code formatting (JuliaFormatter.jl)\" begin\n",
    "        @test format(MetaGraphsNext; verbose=false, overwrite=false)\n",
    "    end\n",
    "```"
   ]
  },
  {
   "cell_type": "markdown",
   "id": "410953bc",
   "metadata": {},
   "source": [
    "JET gets used with a little care because of versioning. This is from HiddenMarkovModels.jl.\n",
    "```\n",
    "        @testset \"Code linting\" begin\n",
    "            using Distributions\n",
    "            using Zygote\n",
    "            if VERSION >= v\"1.10\"\n",
    "                JET.test_package(HiddenMarkovModels; target_defined_modules=true)\n",
    "            end\n",
    "        end\n",
    "```"
   ]
  },
  {
   "cell_type": "code",
   "execution_count": null,
   "id": "84a21d26",
   "metadata": {},
   "outputs": [
    {
     "data": {
      "text/plain": [
       "125-element Vector{String}:\n",
       " \"GivEmXL\"\n",
       " \"IdealistaAPIClient\"\n",
       " \"JpegTurbo\"\n",
       " \"StructuralEquationModels\"\n",
       " \"Rimu\"\n",
       " \"MFrontInterface\"\n",
       " \"Plasmo\"\n",
       " \"PhyloClustering\"\n",
       " \"QuanEstimation\"\n",
       " \"TensorTrains\"\n",
       " ⋮\n",
       " \"ParallelKMeans\"\n",
       " \"TestSetExtensions\"\n",
       " \"ONSAS\"\n",
       " \"ImageShow\"\n",
       " \"ReachabilityAnalysis\"\n",
       " \"PackageMaker\"\n",
       " \"StartUpDG\"\n",
       " \"CVChannel\"\n",
       " \"QEDbase\""
      ]
     },
     "metadata": {},
     "output_type": "display_data"
    }
   ],
   "source": [
    "uses(\"Suppressor\")"
   ]
  },
  {
   "cell_type": "markdown",
   "id": "5675a4cf",
   "metadata": {},
   "source": [
    "An example of Suppressor from GivEmXL:\n",
    "```\n",
    "using Suppressor\n",
    "@suppress begin\n",
    "    Pkg.develop(;path)\n",
    "end\n",
    "```\n",
    "From JpegTurbo.jl:\n",
    "```\n",
    "        data_new = @suppress_err jpeg_decode(img_rgb_bytes; preferred_size=3 .* actual_size)\n",
    "        @test size(data_new) == 2 .* actual_size\n",
    "        msg = @capture_err jpeg_decode(img_rgb_bytes; preferred_size=3 .* actual_size)\n",
    "        @test occursin(\"Warning: Failed to infer appropriate scale ratio, use `scale_ratio=2` instead.\", msg)\n",
    "```"
   ]
  },
  {
   "cell_type": "code",
   "execution_count": 11,
   "id": "36fea4d2",
   "metadata": {},
   "outputs": [
    {
     "data": {
      "text/plain": [
       "110-element Vector{String}:\n",
       " \"OptimalBids\"\n",
       " \"ONNX\"\n",
       " \"CuFluxSampler\"\n",
       " \"XDF\"\n",
       " \"TIFFDatasets\"\n",
       " \"OSMMakie\"\n",
       " \"SDDP\"\n",
       " \"PlanetaryEphemeris\"\n",
       " \"GRAPE\"\n",
       " \"SurrogatedDistanceModels\"\n",
       " ⋮\n",
       " \"FastHistograms\"\n",
       " \"ExaModels\"\n",
       " \"Balloons\"\n",
       " \"Ferrite\"\n",
       " \"ArtifactWrappers\"\n",
       " \"NaturalNeighbours\"\n",
       " \"NeXLSpectrum\"\n",
       " \"ONNXNaiveNASflux\"\n",
       " \"QuantumControl\""
      ]
     },
     "metadata": {},
     "output_type": "display_data"
    }
   ],
   "source": [
    "uses(\"Downloads\")"
   ]
  },
  {
   "cell_type": "markdown",
   "id": "8cf97b4c",
   "metadata": {},
   "source": [
    "In OptimalBids.jl:\n",
    "```\n",
    "@testset \"Case: $case_name\" for case_name in\n",
    "                                [\"pglib_opf_case118_ieee.m\", \"pglib_opf_case5_pjm.m\"]\n",
    "    # Download test case\n",
    "    DATA_DIR = mktempdir()\n",
    "    case_file_path = joinpath(DATA_DIR, case_name)\n",
    "    Downloads.download(\n",
    "        \"https://raw.githubusercontent.com/power-grid-lib/pglib-opf/01681386d084d8bd03b429abcd1ee6966f68b9a3/\" *\n",
    "        case_name,\n",
    "        case_file_path,\n",
    "    )\n",
    "```"
   ]
  },
  {
   "cell_type": "code",
   "execution_count": null,
   "id": "454bdf22",
   "metadata": {},
   "outputs": [],
   "source": []
  }
 ],
 "metadata": {
  "kernelspec": {
   "display_name": "Julia 1.11.5",
   "language": "julia",
   "name": "julia-1.11"
  },
  "language_info": {
   "file_extension": ".jl",
   "mimetype": "application/julia",
   "name": "julia",
   "version": "1.11.5"
  }
 },
 "nbformat": 4,
 "nbformat_minor": 5
}
